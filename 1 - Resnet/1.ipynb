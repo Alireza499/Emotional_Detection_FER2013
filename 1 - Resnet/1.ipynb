{
 "cells": [
  {
   "cell_type": "code",
   "execution_count": 3,
   "id": "5b7a6f92",
   "metadata": {},
   "outputs": [],
   "source": [
    "import numpy as np # linear algebra\n",
    "import pandas as pd # data processing, CSV file I/O (e.g. pd.read_csv)\n",
    "import os\n",
    "#for dirname, _, filenames in os.walk('/kaggle/input'):\n",
    "    #for filename in filenames:\n",
    "        #print(os.path.join(dirname, filename))\n",
    "import matplotlib.pyplot as plt\n",
    "import seaborn as sns\n",
    "import tensorflow as tf\n",
    "import keras\n",
    "from keras.preprocessing import image\n",
    "from keras.models import Sequential\n",
    "from keras.layers import Conv2D, MaxPool2D, Flatten,Dense,Dropout,BatchNormalization\n",
    "from tensorflow.keras.preprocessing.image import ImageDataGenerator\n",
    "import cv2\n",
    "from tensorflow.keras.applications import VGG16, InceptionResNetV2\n",
    "from keras import regularizers\n",
    "from tensorflow.keras.optimizers import Adam,RMSprop,SGD,Adamax"
   ]
  },
  {
   "cell_type": "code",
   "execution_count": 12,
   "id": "59f42a17",
   "metadata": {},
   "outputs": [],
   "source": [
    "train_dir = \"../train\" #passing the path with training images\n",
    "test_dir = \"../test\"   #passing the path with testing images"
   ]
  },
  {
   "cell_type": "code",
   "execution_count": 13,
   "id": "57c388c2",
   "metadata": {},
   "outputs": [],
   "source": [
    "img_size = 48"
   ]
  },
  {
   "cell_type": "code",
   "execution_count": 14,
   "id": "be3a740b",
   "metadata": {},
   "outputs": [],
   "source": [
    "\"\"\"\n",
    "Data Augmentation\n",
    "--------------------------\n",
    "rotation_range = rotates the image with the amount of degrees we provide\n",
    "width_shift_range = shifts the image randomly to the right or left along the width of the image\n",
    "height_shift range = shifts image randomly to up or below along the height of the image\n",
    "horizontal_flip = flips the image horizontally\n",
    "rescale = to scale down the pizel values in our image between 0 and 1\n",
    "zoom_range = applies random zoom to our object\n",
    "validation_split = reserves some images to be used for validation purpose\n",
    "\"\"\"\n",
    "\n",
    "train_datagen = ImageDataGenerator(#rotation_range = 180,\n",
    "                                         width_shift_range = 0.1,\n",
    "                                         height_shift_range = 0.1,\n",
    "                                         horizontal_flip = True,\n",
    "                                         rescale = 1./255,\n",
    "                                         #zoom_range = 0.2,\n",
    "                                         validation_split = 0.2\n",
    "                                        )\n",
    "validation_datagen = ImageDataGenerator(rescale = 1./255,\n",
    "                                         validation_split = 0.2)"
   ]
  },
  {
   "cell_type": "code",
   "execution_count": 15,
   "id": "061efb24",
   "metadata": {},
   "outputs": [
    {
     "name": "stdout",
     "output_type": "stream",
     "text": [
      "Found 22968 images belonging to 7 classes.\n",
      "Found 1432 images belonging to 7 classes.\n"
     ]
    }
   ],
   "source": [
    "\"\"\"\n",
    "Applying data augmentation to the images as we read \n",
    "them from their respectivve directories\n",
    "\"\"\"\n",
    "train_generator = train_datagen.flow_from_directory(directory = train_dir,\n",
    "                                                    target_size = (img_size,img_size),\n",
    "                                                    batch_size = 64,\n",
    "                                                    color_mode = \"grayscale\",\n",
    "                                                    class_mode = \"categorical\",\n",
    "                                                    subset = \"training\"\n",
    "                                                   )\n",
    "validation_generator = validation_datagen.flow_from_directory( directory = test_dir,\n",
    "                                                              target_size = (img_size,img_size),\n",
    "                                                              batch_size = 64,\n",
    "                                                              color_mode = \"grayscale\",\n",
    "                                                              class_mode = \"categorical\",\n",
    "                                                              subset = \"validation\"\n",
    "                                                                                         )"
   ]
  },
  {
   "cell_type": "code",
   "execution_count": 6,
   "id": "5b69fd94",
   "metadata": {},
   "outputs": [
    {
     "data": {
      "text/plain": [
       "\"\\nModeling\\n\\n\\nmodel = Sequential()\\nmodel.add(Conv2D(filters = 64,kernel_size = (3,3),padding = 'same',activation = 'relu',input_shape=(img_size,img_size,1)))\\nmodel.add(MaxPool2D(pool_size = 2,strides = 2))\\nmodel.add(BatchNormalization())\\n\\nmodel.add(Conv2D(filters = 128,kernel_size = (3,3),padding = 'same',activation = 'relu'))\\nmodel.add(MaxPool2D(pool_size = 2,strides = 2))\\nmodel.add(BatchNormalization())\\nmodel.add(Dropout(0.25))\\n\\nmodel.add(Conv2D(filters = 128,kernel_size = (3,3),padding = 'same',activation = 'relu'))\\nmodel.add(MaxPool2D(pool_size = 2,strides = 2))\\nmodel.add(BatchNormalization())\\nmodel.add(Dropout(0.25))\\n\\nmodel.add(Conv2D(filters = 256,kernel_size = (3,3),padding = 'same',activation = 'relu'))\\nmodel.add(MaxPool2D(pool_size = 2,strides = 2))\\nmodel.add(BatchNormalization())\\n\\nmodel.add(Flatten())\\nmodel.add(Dense(units = 128,activation = 'relu',kernel_initializer='he_normal'))\\nmodel.add(Dropout(0.25))\\nmodel.add(Dense(units = 64,activation = 'relu',kernel_initializer='he_normal'))\\nmodel.add(BatchNormalization())\\nmodel.add(Dropout(0.25))\\nmodel.add(Dense(units = 32,activation = 'relu',kernel_initializer='he_normal'))\\nmodel.add(Dense(7,activation = 'softmax'))\\n\\n\""
      ]
     },
     "execution_count": 6,
     "metadata": {},
     "output_type": "execute_result"
    }
   ],
   "source": [
    "\"\"\"\n",
    "Modeling\n",
    "\n",
    "\n",
    "model = Sequential()\n",
    "model.add(Conv2D(filters = 64,kernel_size = (3,3),padding = 'same',activation = 'relu',input_shape=(img_size,img_size,1)))\n",
    "model.add(MaxPool2D(pool_size = 2,strides = 2))\n",
    "model.add(BatchNormalization())\n",
    "\n",
    "model.add(Conv2D(filters = 128,kernel_size = (3,3),padding = 'same',activation = 'relu'))\n",
    "model.add(MaxPool2D(pool_size = 2,strides = 2))\n",
    "model.add(BatchNormalization())\n",
    "model.add(Dropout(0.25))\n",
    "\n",
    "model.add(Conv2D(filters = 128,kernel_size = (3,3),padding = 'same',activation = 'relu'))\n",
    "model.add(MaxPool2D(pool_size = 2,strides = 2))\n",
    "model.add(BatchNormalization())\n",
    "model.add(Dropout(0.25))\n",
    "\n",
    "model.add(Conv2D(filters = 256,kernel_size = (3,3),padding = 'same',activation = 'relu'))\n",
    "model.add(MaxPool2D(pool_size = 2,strides = 2))\n",
    "model.add(BatchNormalization())\n",
    "\n",
    "model.add(Flatten())\n",
    "model.add(Dense(units = 128,activation = 'relu',kernel_initializer='he_normal'))\n",
    "model.add(Dropout(0.25))\n",
    "model.add(Dense(units = 64,activation = 'relu',kernel_initializer='he_normal'))\n",
    "model.add(BatchNormalization())\n",
    "model.add(Dropout(0.25))\n",
    "model.add(Dense(units = 32,activation = 'relu',kernel_initializer='he_normal'))\n",
    "model.add(Dense(7,activation = 'softmax'))\n",
    "\n",
    "\"\"\""
   ]
  },
  {
   "cell_type": "code",
   "execution_count": 7,
   "id": "2090cd1e",
   "metadata": {},
   "outputs": [
    {
     "name": "stderr",
     "output_type": "stream",
     "text": [
      "WARNING:absl:`lr` is deprecated, please use `learning_rate` instead, or use the legacy optimizer, e.g.,tf.keras.optimizers.legacy.Adam.\n"
     ]
    }
   ],
   "source": [
    "model= tf.keras.models.Sequential()\n",
    "model.add(Conv2D(32, kernel_size=(3, 3), padding='same', activation='relu', input_shape=(48, 48,1)))\n",
    "model.add(Conv2D(64,(3,3), padding='same', activation='relu' ))\n",
    "model.add(BatchNormalization())\n",
    "model.add(MaxPool2D(pool_size=(2, 2)))\n",
    "model.add(Dropout(0.25))\n",
    "\n",
    "model.add(Conv2D(128,(5,5), padding='same', activation='relu'))\n",
    "model.add(BatchNormalization())\n",
    "model.add(MaxPool2D(pool_size=(2, 2)))\n",
    "model.add(Dropout(0.25))\n",
    "    \n",
    "model.add(Conv2D(512,(3,3), padding='same', activation='relu', kernel_regularizer=regularizers.l2(0.01)))\n",
    "model.add(BatchNormalization())\n",
    "model.add(MaxPool2D(pool_size=(2, 2)))\n",
    "model.add(Dropout(0.25))\n",
    "\n",
    "model.add(Conv2D(512,(3,3), padding='same', activation='relu', kernel_regularizer=regularizers.l2(0.01)))\n",
    "model.add(BatchNormalization())\n",
    "model.add(MaxPool2D(pool_size=(2, 2)))\n",
    "model.add(Dropout(0.25))\n",
    "\n",
    "model.add(Flatten()) \n",
    "model.add(Dense(256,activation = 'relu'))\n",
    "model.add(BatchNormalization())\n",
    "model.add(Dropout(0.25))\n",
    "    \n",
    "model.add(Dense(512,activation = 'relu'))\n",
    "model.add(BatchNormalization())\n",
    "model.add(Dropout(0.25))\n",
    "\n",
    "model.add(Dense(7, activation='softmax'))\n",
    "\n",
    "model.compile(\n",
    "    optimizer = Adam(lr=0.0001), \n",
    "    loss='categorical_crossentropy', \n",
    "    metrics=['accuracy']\n",
    "  )"
   ]
  },
  {
   "cell_type": "code",
   "execution_count": 8,
   "id": "efadb90f",
   "metadata": {},
   "outputs": [],
   "source": [
    "epochs = 60\n",
    "batch_size = 64"
   ]
  },
  {
   "cell_type": "code",
   "execution_count": 9,
   "id": "1069d988",
   "metadata": {},
   "outputs": [
    {
     "name": "stdout",
     "output_type": "stream",
     "text": [
      "Model: \"sequential\"\n",
      "_________________________________________________________________\n",
      " Layer (type)                Output Shape              Param #   \n",
      "=================================================================\n",
      " conv2d (Conv2D)             (None, 48, 48, 32)        320       \n",
      "                                                                 \n",
      " conv2d_1 (Conv2D)           (None, 48, 48, 64)        18496     \n",
      "                                                                 \n",
      " batch_normalization (BatchN  (None, 48, 48, 64)       256       \n",
      " ormalization)                                                   \n",
      "                                                                 \n",
      " max_pooling2d (MaxPooling2D  (None, 24, 24, 64)       0         \n",
      " )                                                               \n",
      "                                                                 \n",
      " dropout (Dropout)           (None, 24, 24, 64)        0         \n",
      "                                                                 \n",
      " conv2d_2 (Conv2D)           (None, 24, 24, 128)       204928    \n",
      "                                                                 \n",
      " batch_normalization_1 (Batc  (None, 24, 24, 128)      512       \n",
      " hNormalization)                                                 \n",
      "                                                                 \n",
      " max_pooling2d_1 (MaxPooling  (None, 12, 12, 128)      0         \n",
      " 2D)                                                             \n",
      "                                                                 \n",
      " dropout_1 (Dropout)         (None, 12, 12, 128)       0         \n",
      "                                                                 \n",
      " conv2d_3 (Conv2D)           (None, 12, 12, 512)       590336    \n",
      "                                                                 \n",
      " batch_normalization_2 (Batc  (None, 12, 12, 512)      2048      \n",
      " hNormalization)                                                 \n",
      "                                                                 \n",
      " max_pooling2d_2 (MaxPooling  (None, 6, 6, 512)        0         \n",
      " 2D)                                                             \n",
      "                                                                 \n",
      " dropout_2 (Dropout)         (None, 6, 6, 512)         0         \n",
      "                                                                 \n",
      " conv2d_4 (Conv2D)           (None, 6, 6, 512)         2359808   \n",
      "                                                                 \n",
      " batch_normalization_3 (Batc  (None, 6, 6, 512)        2048      \n",
      " hNormalization)                                                 \n",
      "                                                                 \n",
      " max_pooling2d_3 (MaxPooling  (None, 3, 3, 512)        0         \n",
      " 2D)                                                             \n",
      "                                                                 \n",
      " dropout_3 (Dropout)         (None, 3, 3, 512)         0         \n",
      "                                                                 \n",
      " flatten (Flatten)           (None, 4608)              0         \n",
      "                                                                 \n",
      " dense (Dense)               (None, 256)               1179904   \n",
      "                                                                 \n",
      " batch_normalization_4 (Batc  (None, 256)              1024      \n",
      " hNormalization)                                                 \n",
      "                                                                 \n",
      " dropout_4 (Dropout)         (None, 256)               0         \n",
      "                                                                 \n",
      " dense_1 (Dense)             (None, 512)               131584    \n",
      "                                                                 \n",
      " batch_normalization_5 (Batc  (None, 512)              2048      \n",
      " hNormalization)                                                 \n",
      "                                                                 \n",
      " dropout_5 (Dropout)         (None, 512)               0         \n",
      "                                                                 \n",
      " dense_2 (Dense)             (None, 7)                 3591      \n",
      "                                                                 \n",
      "=================================================================\n",
      "Total params: 4,496,903\n",
      "Trainable params: 4,492,935\n",
      "Non-trainable params: 3,968\n",
      "_________________________________________________________________\n"
     ]
    }
   ],
   "source": [
    "model.summary()"
   ]
  },
  {
   "cell_type": "code",
   "execution_count": 10,
   "id": "36fccde0",
   "metadata": {},
   "outputs": [
    {
     "name": "stdout",
     "output_type": "stream",
     "text": [
      "Epoch 1/60\n",
      "359/359 [==============================] - 453s 1s/step - loss: 5.1559 - accuracy: 0.2231 - val_loss: 3.1093 - val_accuracy: 0.1718\n",
      "Epoch 2/60\n",
      "359/359 [==============================] - 460s 1s/step - loss: 2.2727 - accuracy: 0.3148 - val_loss: 2.7968 - val_accuracy: 0.1774\n",
      "Epoch 3/60\n",
      "359/359 [==============================] - 430s 1s/step - loss: 2.3187 - accuracy: 0.3912 - val_loss: 2.4895 - val_accuracy: 0.3855\n",
      "Epoch 4/60\n",
      "359/359 [==============================] - 399s 1s/step - loss: 2.3032 - accuracy: 0.4422 - val_loss: 2.1896 - val_accuracy: 0.4770\n",
      "Epoch 5/60\n",
      "359/359 [==============================] - 403s 1s/step - loss: 2.1910 - accuracy: 0.4660 - val_loss: 2.1416 - val_accuracy: 0.5119\n",
      "Epoch 6/60\n",
      "359/359 [==============================] - 390s 1s/step - loss: 2.1031 - accuracy: 0.4899 - val_loss: 1.9901 - val_accuracy: 0.5209\n",
      "Epoch 7/60\n",
      "359/359 [==============================] - 393s 1s/step - loss: 2.1054 - accuracy: 0.4993 - val_loss: 2.0400 - val_accuracy: 0.5377\n",
      "Epoch 8/60\n",
      "359/359 [==============================] - 397s 1s/step - loss: 2.0321 - accuracy: 0.5073 - val_loss: 1.9982 - val_accuracy: 0.4993\n",
      "Epoch 9/60\n",
      "359/359 [==============================] - 392s 1s/step - loss: 2.0904 - accuracy: 0.5075 - val_loss: 2.0736 - val_accuracy: 0.4951\n",
      "Epoch 10/60\n",
      "359/359 [==============================] - 393s 1s/step - loss: 1.9659 - accuracy: 0.5126 - val_loss: 1.9501 - val_accuracy: 0.5628\n",
      "Epoch 11/60\n",
      "359/359 [==============================] - 389s 1s/step - loss: 1.9494 - accuracy: 0.5217 - val_loss: 1.9726 - val_accuracy: 0.5237\n",
      "Epoch 12/60\n",
      "359/359 [==============================] - 387s 1s/step - loss: 2.0597 - accuracy: 0.5242 - val_loss: 1.9189 - val_accuracy: 0.5635\n",
      "Epoch 13/60\n",
      "359/359 [==============================] - 401s 1s/step - loss: 1.9228 - accuracy: 0.5285 - val_loss: 1.8934 - val_accuracy: 0.5077\n",
      "Epoch 14/60\n",
      "359/359 [==============================] - 460s 1s/step - loss: 1.9280 - accuracy: 0.5313 - val_loss: 1.8163 - val_accuracy: 0.5559\n",
      "Epoch 15/60\n",
      "359/359 [==============================] - 484s 1s/step - loss: 1.8192 - accuracy: 0.5369 - val_loss: 1.6668 - val_accuracy: 0.5824\n",
      "Epoch 16/60\n",
      "359/359 [==============================] - 425s 1s/step - loss: 1.8246 - accuracy: 0.5422 - val_loss: 1.7699 - val_accuracy: 0.5810\n",
      "Epoch 17/60\n",
      "359/359 [==============================] - 487s 1s/step - loss: 1.8483 - accuracy: 0.5438 - val_loss: 1.9841 - val_accuracy: 0.5733\n",
      "Epoch 18/60\n",
      "359/359 [==============================] - 404s 1s/step - loss: 1.8499 - accuracy: 0.5505 - val_loss: 1.9950 - val_accuracy: 0.5524\n",
      "Epoch 19/60\n",
      "359/359 [==============================] - 397s 1s/step - loss: 1.8127 - accuracy: 0.5499 - val_loss: 1.8168 - val_accuracy: 0.5608\n",
      "Epoch 20/60\n",
      "359/359 [==============================] - 461s 1s/step - loss: 1.7688 - accuracy: 0.5542 - val_loss: 1.7304 - val_accuracy: 0.5635\n",
      "Epoch 21/60\n",
      "359/359 [==============================] - 460s 1s/step - loss: 1.7610 - accuracy: 0.5586 - val_loss: 1.6598 - val_accuracy: 0.6068\n",
      "Epoch 22/60\n",
      "359/359 [==============================] - 464s 1s/step - loss: 1.6748 - accuracy: 0.5626 - val_loss: 1.8030 - val_accuracy: 0.5510\n",
      "Epoch 23/60\n",
      "359/359 [==============================] - 455s 1s/step - loss: 1.7053 - accuracy: 0.5617 - val_loss: 1.7208 - val_accuracy: 0.5936\n",
      "Epoch 24/60\n",
      "359/359 [==============================] - 445s 1s/step - loss: 1.7191 - accuracy: 0.5652 - val_loss: 1.9054 - val_accuracy: 0.5573\n",
      "Epoch 25/60\n",
      "359/359 [==============================] - 450s 1s/step - loss: 1.6444 - accuracy: 0.5663 - val_loss: 1.5828 - val_accuracy: 0.5852\n",
      "Epoch 26/60\n",
      "359/359 [==============================] - 451s 1s/step - loss: 1.6719 - accuracy: 0.5678 - val_loss: 1.5536 - val_accuracy: 0.5712\n",
      "Epoch 27/60\n",
      "359/359 [==============================] - 425s 1s/step - loss: 1.5684 - accuracy: 0.5699 - val_loss: 1.6109 - val_accuracy: 0.5761\n",
      "Epoch 28/60\n",
      "359/359 [==============================] - 398s 1s/step - loss: 1.5502 - accuracy: 0.5763 - val_loss: 1.5134 - val_accuracy: 0.5901\n",
      "Epoch 29/60\n",
      "359/359 [==============================] - 393s 1s/step - loss: 1.6030 - accuracy: 0.5719 - val_loss: 1.5226 - val_accuracy: 0.5831\n",
      "Epoch 30/60\n",
      "359/359 [==============================] - 392s 1s/step - loss: 1.5354 - accuracy: 0.5748 - val_loss: 1.5163 - val_accuracy: 0.5873\n",
      "Epoch 31/60\n",
      "359/359 [==============================] - 390s 1s/step - loss: 1.5481 - accuracy: 0.5733 - val_loss: 1.4843 - val_accuracy: 0.5978\n",
      "Epoch 32/60\n",
      "359/359 [==============================] - 389s 1s/step - loss: 1.4963 - accuracy: 0.5806 - val_loss: 1.4259 - val_accuracy: 0.5985\n",
      "Epoch 33/60\n",
      "359/359 [==============================] - 389s 1s/step - loss: 1.5564 - accuracy: 0.5802 - val_loss: 1.5592 - val_accuracy: 0.5796\n",
      "Epoch 34/60\n",
      "359/359 [==============================] - 391s 1s/step - loss: 1.5032 - accuracy: 0.5820 - val_loss: 1.4335 - val_accuracy: 0.6131\n",
      "Epoch 35/60\n",
      "359/359 [==============================] - 400s 1s/step - loss: 1.4983 - accuracy: 0.5800 - val_loss: 1.4579 - val_accuracy: 0.6068\n",
      "Epoch 36/60\n",
      "359/359 [==============================] - 399s 1s/step - loss: 1.4983 - accuracy: 0.5836 - val_loss: 1.4357 - val_accuracy: 0.6089\n",
      "Epoch 37/60\n",
      "359/359 [==============================] - 433s 1s/step - loss: 1.5014 - accuracy: 0.5825 - val_loss: 1.4662 - val_accuracy: 0.6047\n",
      "Epoch 38/60\n",
      "359/359 [==============================] - 447s 1s/step - loss: 1.5008 - accuracy: 0.5867 - val_loss: 1.4731 - val_accuracy: 0.5901\n",
      "Epoch 39/60\n",
      "359/359 [==============================] - 462s 1s/step - loss: 1.4977 - accuracy: 0.5889 - val_loss: 1.4288 - val_accuracy: 0.6103\n",
      "Epoch 40/60\n",
      "359/359 [==============================] - 427s 1s/step - loss: 1.4632 - accuracy: 0.5921 - val_loss: 1.4558 - val_accuracy: 0.5817\n",
      "Epoch 41/60\n",
      "359/359 [==============================] - 411s 1s/step - loss: 1.5120 - accuracy: 0.5909 - val_loss: 1.5906 - val_accuracy: 0.6013\n",
      "Epoch 42/60\n",
      "359/359 [==============================] - 397s 1s/step - loss: 1.6061 - accuracy: 0.5876 - val_loss: 1.5659 - val_accuracy: 0.5957\n",
      "Epoch 43/60\n",
      "359/359 [==============================] - 398s 1s/step - loss: 1.5007 - accuracy: 0.5921 - val_loss: 1.4253 - val_accuracy: 0.6027\n",
      "Epoch 44/60\n",
      "359/359 [==============================] - 404s 1s/step - loss: 1.4373 - accuracy: 0.5938 - val_loss: 1.4598 - val_accuracy: 0.6006\n",
      "Epoch 45/60\n",
      "359/359 [==============================] - 426s 1s/step - loss: 1.4439 - accuracy: 0.5920 - val_loss: 1.4278 - val_accuracy: 0.6075\n",
      "Epoch 46/60\n",
      "359/359 [==============================] - 457s 1s/step - loss: 1.4551 - accuracy: 0.5949 - val_loss: 1.4129 - val_accuracy: 0.6152\n",
      "Epoch 47/60\n",
      "359/359 [==============================] - 484s 1s/step - loss: 1.4493 - accuracy: 0.5973 - val_loss: 1.3684 - val_accuracy: 0.6313\n",
      "Epoch 48/60\n",
      "359/359 [==============================] - 461s 1s/step - loss: 1.4535 - accuracy: 0.5996 - val_loss: 1.3914 - val_accuracy: 0.6068\n",
      "Epoch 49/60\n",
      "359/359 [==============================] - 449s 1s/step - loss: 1.4414 - accuracy: 0.6001 - val_loss: 1.3650 - val_accuracy: 0.6194\n",
      "Epoch 50/60\n",
      "359/359 [==============================] - 447s 1s/step - loss: 1.4113 - accuracy: 0.5997 - val_loss: 1.3875 - val_accuracy: 0.6229\n",
      "Epoch 51/60\n",
      "359/359 [==============================] - 448s 1s/step - loss: 1.4428 - accuracy: 0.6032 - val_loss: 1.3977 - val_accuracy: 0.6313\n",
      "Epoch 52/60\n",
      "359/359 [==============================] - 451s 1s/step - loss: 1.4061 - accuracy: 0.6031 - val_loss: 1.3864 - val_accuracy: 0.6166\n",
      "Epoch 53/60\n",
      "359/359 [==============================] - 436s 1s/step - loss: 1.3995 - accuracy: 0.6048 - val_loss: 1.4315 - val_accuracy: 0.6096\n",
      "Epoch 54/60\n",
      "359/359 [==============================] - 401s 1s/step - loss: 1.4248 - accuracy: 0.5986 - val_loss: 1.4206 - val_accuracy: 0.6061\n",
      "Epoch 55/60\n",
      "359/359 [==============================] - 455s 1s/step - loss: 1.5114 - accuracy: 0.6003 - val_loss: 1.5241 - val_accuracy: 0.6292\n",
      "Epoch 56/60\n",
      "359/359 [==============================] - 451s 1s/step - loss: 1.4551 - accuracy: 0.6038 - val_loss: 1.3896 - val_accuracy: 0.6117\n",
      "Epoch 57/60\n",
      "359/359 [==============================] - 461s 1s/step - loss: 1.4259 - accuracy: 0.6008 - val_loss: 1.3727 - val_accuracy: 0.6278\n"
     ]
    },
    {
     "name": "stdout",
     "output_type": "stream",
     "text": [
      "Epoch 58/60\n",
      "359/359 [==============================] - 444s 1s/step - loss: 1.3807 - accuracy: 0.6034 - val_loss: 1.3476 - val_accuracy: 0.6082\n",
      "Epoch 59/60\n",
      "359/359 [==============================] - 451s 1s/step - loss: 1.3900 - accuracy: 0.6090 - val_loss: 1.3961 - val_accuracy: 0.6187\n",
      "Epoch 60/60\n",
      "359/359 [==============================] - 420s 1s/step - loss: 1.3947 - accuracy: 0.6106 - val_loss: 1.3310 - val_accuracy: 0.6194\n"
     ]
    }
   ],
   "source": [
    "import scipy.integrate\n",
    "\n",
    "import scipy.special\n",
    "import scipy\n",
    "history = model.fit(x = train_generator,epochs = epochs,validation_data = validation_generator)"
   ]
  },
  {
   "cell_type": "code",
   "execution_count": 11,
   "id": "7a6c7971",
   "metadata": {},
   "outputs": [
    {
     "data": {
      "image/png": "[encoded data removed]",
      "text/plain": [
       "<Figure size 1200x400 with 2 Axes>"
      ]
     },
     "metadata": {},
     "output_type": "display_data"
    }
   ],
   "source": [
    "fig , ax = plt.subplots(1,2)\n",
    "train_acc = history.history['accuracy']\n",
    "train_loss = history.history['loss']\n",
    "fig.set_size_inches(12,4)\n",
    "\n",
    "ax[0].plot(history.history['accuracy'])\n",
    "ax[0].plot(history.history['val_accuracy'])\n",
    "ax[0].set_title('Training Accuracy vs Validation Accuracy')\n",
    "ax[0].set_ylabel('Accuracy')\n",
    "ax[0].set_xlabel('Epoch')\n",
    "ax[0].legend(['Train', 'Validation'], loc='upper left')\n",
    "\n",
    "ax[1].plot(history.history['loss'])\n",
    "ax[1].plot(history.history['val_loss'])\n",
    "ax[1].set_title('Training Loss vs Validation Loss')\n",
    "ax[1].set_ylabel('Loss')\n",
    "ax[1].set_xlabel('Epoch')\n",
    "ax[1].legend(['Train', 'Validation'], loc='upper left')\n",
    "\n",
    "plt.show()"
   ]
  },
  {
   "cell_type": "code",
   "execution_count": 12,
   "id": "1b75e5ce",
   "metadata": {},
   "outputs": [],
   "source": [
    "model.save('model_optimal.h5')"
   ]
  },
  {
   "cell_type": "code",
   "execution_count": 8,
   "id": "9c01e8ac",
   "metadata": {},
   "outputs": [
    {
     "name": "stdout",
     "output_type": "stream",
     "text": [
      "(48, 48)\n"
     ]
    },
    {
     "data": {
      "image/png": "[encoded data removed]",
      "text/plain": [
       "<Figure size 640x480 with 1 Axes>"
      ]
     },
     "metadata": {},
     "output_type": "display_data"
    }
   ],
   "source": [
    "import keras.utils as image\n",
    "img = image.load_img(\"../test/happy/PrivateTest_12052491.jpg\",target_size = (48,48),color_mode = \"grayscale\")\n",
    "img = np.array(img)\n",
    "plt.imshow(img)\n",
    "print(img.shape) #prints (48,48) that is the shape of our image"
   ]
  },
  {
   "cell_type": "code",
   "execution_count": 9,
   "id": "8b3b6dd8",
   "metadata": {},
   "outputs": [],
   "source": [
    "label_dict = {0:'Angry',1:'Disgust',2:'Fear',3:'Happy',4:'Neutral',5:'Sad',6:'Surprise'}"
   ]
  },
  {
   "cell_type": "code",
   "execution_count": 17,
   "id": "3819201b",
   "metadata": {},
   "outputs": [
    {
     "name": "stdout",
     "output_type": "stream",
     "text": [
      "1/1 [==============================] - 0s 366ms/step\n",
      "[0.9106292, 0.0, 0.08937074, 0.0, 0.0, 0.0, 0.0]\n"
     ]
    }
   ],
   "source": [
    "img = np.expand_dims(img,axis = 0) #makes image shape (1,48,48)\n",
    "img = img.reshape(1,48,48,1)\n",
    "result = model.predict(img)\n",
    "result = list(result[0])\n",
    "print(result)"
   ]
  },
  {
   "cell_type": "code",
   "execution_count": 18,
   "id": "b2829aed",
   "metadata": {},
   "outputs": [
    {
     "name": "stdout",
     "output_type": "stream",
     "text": [
      "Angry\n"
     ]
    }
   ],
   "source": [
    "img_index = result.index(max(result))\n",
    "print(label_dict[img_index])\n",
    "plt.show()"
   ]
  },
  {
   "cell_type": "code",
   "execution_count": 17,
   "id": "e165b5ee",
   "metadata": {},
   "outputs": [
    {
     "name": "stdout",
     "output_type": "stream",
     "text": [
      "359/359 [==============================] - 56s 154ms/step - loss: 1.2833 - accuracy: 0.6473\n",
      "23/23 [==============================] - 1s 31ms/step - loss: 1.3310 - accuracy: 0.6194\n",
      "final train accuracy = 64.73 , validation accuracy = 61.94\n"
     ]
    }
   ],
   "source": [
    "train_loss, train_acc = model.evaluate(train_generator)\n",
    "test_loss, test_acc   = model.evaluate(validation_generator)\n",
    "print(\"final train accuracy = {:.2f} , validation accuracy = {:.2f}\".format(train_acc*100, test_acc*100))"
   ]
  },
  {
   "cell_type": "code",
   "execution_count": 20,
   "id": "849b04e0",
   "metadata": {},
   "outputs": [],
   "source": [
    "model.save_weights('model_weights.h5')"
   ]
  },
  {
   "cell_type": "code",
   "execution_count": 7,
   "id": "8dabde73",
   "metadata": {
    "scrolled": true
   },
   "outputs": [
    {
     "name": "stdout",
     "output_type": "stream",
     "text": [
      "Model: \"sequential\"\n",
      "_________________________________________________________________\n",
      " Layer (type)                Output Shape              Param #   \n",
      "=================================================================\n",
      " conv2d (Conv2D)             (None, 48, 48, 32)        320       \n",
      "                                                                 \n",
      " conv2d_1 (Conv2D)           (None, 48, 48, 64)        18496     \n",
      "                                                                 \n",
      " batch_normalization (BatchN  (None, 48, 48, 64)       256       \n",
      " ormalization)                                                   \n",
      "                                                                 \n",
      " max_pooling2d (MaxPooling2D  (None, 24, 24, 64)       0         \n",
      " )                                                               \n",
      "                                                                 \n",
      " dropout (Dropout)           (None, 24, 24, 64)        0         \n",
      "                                                                 \n",
      " conv2d_2 (Conv2D)           (None, 24, 24, 128)       204928    \n",
      "                                                                 \n",
      " batch_normalization_1 (Batc  (None, 24, 24, 128)      512       \n",
      " hNormalization)                                                 \n",
      "                                                                 \n",
      " max_pooling2d_1 (MaxPooling  (None, 12, 12, 128)      0         \n",
      " 2D)                                                             \n",
      "                                                                 \n",
      " dropout_1 (Dropout)         (None, 12, 12, 128)       0         \n",
      "                                                                 \n",
      " conv2d_3 (Conv2D)           (None, 12, 12, 512)       590336    \n",
      "                                                                 \n",
      " batch_normalization_2 (Batc  (None, 12, 12, 512)      2048      \n",
      " hNormalization)                                                 \n",
      "                                                                 \n",
      " max_pooling2d_2 (MaxPooling  (None, 6, 6, 512)        0         \n",
      " 2D)                                                             \n",
      "                                                                 \n",
      " dropout_2 (Dropout)         (None, 6, 6, 512)         0         \n",
      "                                                                 \n",
      " conv2d_4 (Conv2D)           (None, 6, 6, 512)         2359808   \n",
      "                                                                 \n",
      " batch_normalization_3 (Batc  (None, 6, 6, 512)        2048      \n",
      " hNormalization)                                                 \n",
      "                                                                 \n",
      " max_pooling2d_3 (MaxPooling  (None, 3, 3, 512)        0         \n",
      " 2D)                                                             \n",
      "                                                                 \n",
      " dropout_3 (Dropout)         (None, 3, 3, 512)         0         \n",
      "                                                                 \n",
      " flatten (Flatten)           (None, 4608)              0         \n",
      "                                                                 \n",
      " dense (Dense)               (None, 256)               1179904   \n",
      "                                                                 \n",
      " batch_normalization_4 (Batc  (None, 256)              1024      \n",
      " hNormalization)                                                 \n",
      "                                                                 \n",
      " dropout_4 (Dropout)         (None, 256)               0         \n",
      "                                                                 \n",
      " dense_1 (Dense)             (None, 512)               131584    \n",
      "                                                                 \n",
      " batch_normalization_5 (Batc  (None, 512)              2048      \n",
      " hNormalization)                                                 \n",
      "                                                                 \n",
      " dropout_5 (Dropout)         (None, 512)               0         \n",
      "                                                                 \n",
      " dense_2 (Dense)             (None, 7)                 3591      \n",
      "                                                                 \n",
      "=================================================================\n",
      "Total params: 4,496,903\n",
      "Trainable params: 4,492,935\n",
      "Non-trainable params: 3,968\n",
      "_________________________________________________________________\n"
     ]
    },
    {
     "name": "stderr",
     "output_type": "stream",
     "text": [
      "C:\\Users\\ASUS\\AppData\\Local\\Programs\\Python\\Python310\\lib\\site-packages\\keras\\optimizers\\optimizer_v2\\adam.py:114: UserWarning: The `lr` argument is deprecated, use `learning_rate` instead.\n",
      "  super().__init__(name, **kwargs)\n"
     ]
    }
   ],
   "source": [
    "from tensorflow.keras.models import load_model\n",
    "model=load_model('model_optimal.h5', compile=False)\n",
    "model.compile(optimizer = Adam(lr=0.0001), \n",
    "    loss='categorical_crossentropy', \n",
    "    metrics=['accuracy'])\n",
    "model.summary()"
   ]
  },
  {
   "cell_type": "code",
   "execution_count": 10,
   "id": "bf409718",
   "metadata": {},
   "outputs": [
    {
     "name": "stdout",
     "output_type": "stream",
     "text": [
      "1/1 [==============================] - 4s 4s/step\n",
      "[0.9106324, 0.0, 0.08936764, 0.0, 0.0, 0.0, 0.0]\n"
     ]
    }
   ],
   "source": [
    "img = np.expand_dims(img,axis = 0) #makes image shape (1,48,48)\n",
    "img = img.reshape(1,48,48,1)\n",
    "result = model.predict(img)\n",
    "result = list(result[0])\n",
    "print(result)"
   ]
  },
  {
   "cell_type": "code",
   "execution_count": 16,
   "id": "b5752111",
   "metadata": {},
   "outputs": [
    {
     "name": "stdout",
     "output_type": "stream",
     "text": [
      "23/23 [==============================] - 6s 129ms/step\n",
      "Confusion Matrix\n",
      "[[26  0 21 57 27 45 15]\n",
      " [ 1  0  1 11  4  4  1]\n",
      " [20  1 22 50 46 38 27]\n",
      " [41  3 36 83 59 80 52]\n",
      " [22  0 26 68 43 58 29]\n",
      " [34  0 21 63 41 60 30]\n",
      " [12  2 16 45 34 43 14]]\n",
      "Classification Report\n",
      "              precision    recall  f1-score   support\n",
      "\n",
      "       angry       0.17      0.14      0.15       191\n",
      "     disgust       0.00      0.00      0.00        22\n",
      "        fear       0.15      0.11      0.13       204\n",
      "       happy       0.22      0.23      0.23       354\n",
      "     neutral       0.17      0.17      0.17       246\n",
      "         sad       0.18      0.24      0.21       249\n",
      "    surprise       0.08      0.08      0.08       166\n",
      "\n",
      "    accuracy                           0.17      1432\n",
      "   macro avg       0.14      0.14      0.14      1432\n",
      "weighted avg       0.17      0.17      0.17      1432\n",
      "\n"
     ]
    },
    {
     "data": {
      "image/png": "[encoded data removed]",
      "text/plain": [
       "<Figure size 800x800 with 2 Axes>"
      ]
     },
     "metadata": {},
     "output_type": "display_data"
    }
   ],
   "source": [
    "y_pred = model.predict(validation_generator)\n",
    "y_pred = np.argmax(y_pred, axis=1)\n",
    "class_labels = validation_generator.class_indices\n",
    "class_labels = {v:k for k,v in class_labels.items()}\n",
    "\n",
    "from sklearn.metrics import classification_report, confusion_matrix\n",
    "cm_train = confusion_matrix(validation_generator.classes, y_pred)\n",
    "print('Confusion Matrix')\n",
    "print(cm_train)\n",
    "print('Classification Report')\n",
    "target_names = list(class_labels.values())\n",
    "print(classification_report(validation_generator.classes, y_pred, target_names=target_names))\n",
    "\n",
    "plt.figure(figsize=(8,8))\n",
    "plt.imshow(cm_train, interpolation='nearest')\n",
    "plt.colorbar()\n",
    "tick_mark = np.arange(len(target_names))\n",
    "_ = plt.xticks(tick_mark, target_names, rotation=90)\n",
    "_ = plt.yticks(tick_mark, target_names)"
   ]
  },
  {
   "cell_type": "code",
   "execution_count": 23,
   "id": "649c8316",
   "metadata": {},
   "outputs": [
    {
     "name": "stdout",
     "output_type": "stream",
     "text": [
      "You must install pydot (`pip install pydot`) and install graphviz (see instructions at https://graphviz.gitlab.io/download/) for plot_model to work.\n"
     ]
    }
   ],
   "source": [
    "from keras.utils import plot_model\n",
    "plot_model(model, to_file='model_optimal.png', show_shapes=True, show_layer_names=True)"
   ]
  },
  {
   "cell_type": "code",
   "execution_count": null,
   "id": "4399b4f5",
   "metadata": {},
   "outputs": [],
   "source": []
  }
 ],
 "metadata": {
  "kernelspec": {
   "display_name": "Python 3 (ipykernel)",
   "language": "python",
   "name": "python3"
  },
  "language_info": {
   "codemirror_mode": {
    "name": "ipython",
    "version": 3
   },
   "file_extension": ".py",
   "mimetype": "text/x-python",
   "name": "python",
   "nbconvert_exporter": "python",
   "pygments_lexer": "ipython3",
   "version": "3.10.7"
  }
 },
 "nbformat": 4,
 "nbformat_minor": 5
}
